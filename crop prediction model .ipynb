{
 "cells": [
  {
   "cell_type": "markdown",
   "id": "c6e5817e-e619-406d-867b-7a1d6b9a7210",
   "metadata": {},
   "source": [
    "# Crop prediction Model"
   ]
  },
  {
   "cell_type": "markdown",
   "id": "f951902e-db5b-4103-ba62-e2461103dd97",
   "metadata": {},
   "source": [
    "Imports neccessary "
   ]
  },
  {
   "cell_type": "code",
   "execution_count": 1,
   "id": "c677a9f8-6f5f-41fc-a860-aa40ddd8280f",
   "metadata": {},
   "outputs": [],
   "source": [
    "import numpy as np\n",
    "import pandas as pd \n",
    "import tensorflow as tf \n",
    "import matplotlib.pyplot as plt\n",
    "from sklearn import preprocessing \n",
    "from sklearn.preprocessing import StandardScaler\n",
    "import seaborn as  sb \n",
    "sb.set()"
   ]
  },
  {
   "cell_type": "markdown",
   "id": "28aff1ea-62fc-4dd2-924e-8b6517db1d2e",
   "metadata": {},
   "source": [
    "Dataset exploration"
   ]
  },
  {
   "cell_type": "code",
   "execution_count": 2,
   "id": "d82660a9-1746-4649-94af-1de27f5883b1",
   "metadata": {},
   "outputs": [
    {
     "data": {
      "text/html": [
       "<div>\n",
       "<style scoped>\n",
       "    .dataframe tbody tr th:only-of-type {\n",
       "        vertical-align: middle;\n",
       "    }\n",
       "\n",
       "    .dataframe tbody tr th {\n",
       "        vertical-align: top;\n",
       "    }\n",
       "\n",
       "    .dataframe thead th {\n",
       "        text-align: right;\n",
       "    }\n",
       "</style>\n",
       "<table border=\"1\" class=\"dataframe\">\n",
       "  <thead>\n",
       "    <tr style=\"text-align: right;\">\n",
       "      <th></th>\n",
       "      <th>Crop</th>\n",
       "      <th>N (mg/kg)</th>\n",
       "      <th>P (mg/kg)</th>\n",
       "      <th>K (mg/kg)</th>\n",
       "      <th>pH</th>\n",
       "      <th>EC(uS/cm)</th>\n",
       "      <th>MOISTURE (%)</th>\n",
       "    </tr>\n",
       "  </thead>\n",
       "  <tbody>\n",
       "    <tr>\n",
       "      <th>0</th>\n",
       "      <td>Cassava</td>\n",
       "      <td>150</td>\n",
       "      <td>50</td>\n",
       "      <td>100</td>\n",
       "      <td>5.5</td>\n",
       "      <td>1.5</td>\n",
       "      <td>60</td>\n",
       "    </tr>\n",
       "    <tr>\n",
       "      <th>1</th>\n",
       "      <td>Cassava</td>\n",
       "      <td>150</td>\n",
       "      <td>50</td>\n",
       "      <td>100</td>\n",
       "      <td>5.5</td>\n",
       "      <td>1.5</td>\n",
       "      <td>62</td>\n",
       "    </tr>\n",
       "    <tr>\n",
       "      <th>2</th>\n",
       "      <td>Cassava</td>\n",
       "      <td>150</td>\n",
       "      <td>50</td>\n",
       "      <td>100</td>\n",
       "      <td>5.5</td>\n",
       "      <td>1.5</td>\n",
       "      <td>64</td>\n",
       "    </tr>\n",
       "    <tr>\n",
       "      <th>3</th>\n",
       "      <td>Cassava</td>\n",
       "      <td>150</td>\n",
       "      <td>50</td>\n",
       "      <td>100</td>\n",
       "      <td>5.5</td>\n",
       "      <td>1.5</td>\n",
       "      <td>66</td>\n",
       "    </tr>\n",
       "    <tr>\n",
       "      <th>4</th>\n",
       "      <td>Cassava</td>\n",
       "      <td>150</td>\n",
       "      <td>50</td>\n",
       "      <td>100</td>\n",
       "      <td>5.5</td>\n",
       "      <td>1.5</td>\n",
       "      <td>68</td>\n",
       "    </tr>\n",
       "  </tbody>\n",
       "</table>\n",
       "</div>"
      ],
      "text/plain": [
       "      Crop  N (mg/kg)  P (mg/kg)  K (mg/kg)   pH  EC(uS/cm)  MOISTURE (%)\n",
       "0  Cassava        150         50        100  5.5        1.5            60\n",
       "1  Cassava        150         50        100  5.5        1.5            62\n",
       "2  Cassava        150         50        100  5.5        1.5            64\n",
       "3  Cassava        150         50        100  5.5        1.5            66\n",
       "4  Cassava        150         50        100  5.5        1.5            68"
      ]
     },
     "execution_count": 2,
     "metadata": {},
     "output_type": "execute_result"
    }
   ],
   "source": [
    "crop_data = pd.read_csv('crop_dataset.csv')\n",
    "crop_data.head()"
   ]
  },
  {
   "cell_type": "code",
   "execution_count": 3,
   "id": "dcef7829-2c79-41f8-abd5-1c680920a955",
   "metadata": {},
   "outputs": [
    {
     "data": {
      "text/plain": [
       "array(['Cassava', 'Vanilla', 'Coffee', 'Cotton ', 'Tea', 'Tobacco',\n",
       "       'Groundnuts', 'Yams', 'Maize (corn)', 'Beans', 'Irish Potato',\n",
       "       'Matooke', 'Sweet Banana', 'Sugarcane'], dtype=object)"
      ]
     },
     "execution_count": 3,
     "metadata": {},
     "output_type": "execute_result"
    }
   ],
   "source": [
    "crops = crop_data['Crop'].unique()\n",
    "crops"
   ]
  },
  {
   "cell_type": "code",
   "execution_count": 4,
   "id": "e0a625c7-79d2-4825-a4eb-04957f0f1a88",
   "metadata": {},
   "outputs": [
    {
     "data": {
      "text/plain": [
       "(37581648, 7)"
      ]
     },
     "execution_count": 4,
     "metadata": {},
     "output_type": "execute_result"
    }
   ],
   "source": [
    "crop_data.shape"
   ]
  },
  {
   "cell_type": "code",
   "execution_count": 5,
   "id": "d14cbecc-9ffb-4177-813c-afc16d8276aa",
   "metadata": {},
   "outputs": [
    {
     "data": {
      "text/html": [
       "<div>\n",
       "<style scoped>\n",
       "    .dataframe tbody tr th:only-of-type {\n",
       "        vertical-align: middle;\n",
       "    }\n",
       "\n",
       "    .dataframe tbody tr th {\n",
       "        vertical-align: top;\n",
       "    }\n",
       "\n",
       "    .dataframe thead th {\n",
       "        text-align: right;\n",
       "    }\n",
       "</style>\n",
       "<table border=\"1\" class=\"dataframe\">\n",
       "  <thead>\n",
       "    <tr style=\"text-align: right;\">\n",
       "      <th></th>\n",
       "      <th>Crop</th>\n",
       "      <th>N (mg/kg)</th>\n",
       "      <th>P (mg/kg)</th>\n",
       "      <th>K (mg/kg)</th>\n",
       "      <th>pH</th>\n",
       "      <th>EC(uS/cm)</th>\n",
       "      <th>MOISTURE (%)</th>\n",
       "    </tr>\n",
       "  </thead>\n",
       "  <tbody>\n",
       "    <tr>\n",
       "      <th>0</th>\n",
       "      <td>Cassava</td>\n",
       "      <td>150</td>\n",
       "      <td>50</td>\n",
       "      <td>100</td>\n",
       "      <td>5.5</td>\n",
       "      <td>1.5</td>\n",
       "      <td>60</td>\n",
       "    </tr>\n",
       "    <tr>\n",
       "      <th>1</th>\n",
       "      <td>Cassava</td>\n",
       "      <td>150</td>\n",
       "      <td>50</td>\n",
       "      <td>100</td>\n",
       "      <td>5.5</td>\n",
       "      <td>1.5</td>\n",
       "      <td>62</td>\n",
       "    </tr>\n",
       "    <tr>\n",
       "      <th>2</th>\n",
       "      <td>Cassava</td>\n",
       "      <td>150</td>\n",
       "      <td>50</td>\n",
       "      <td>100</td>\n",
       "      <td>5.5</td>\n",
       "      <td>1.5</td>\n",
       "      <td>64</td>\n",
       "    </tr>\n",
       "    <tr>\n",
       "      <th>3</th>\n",
       "      <td>Cassava</td>\n",
       "      <td>150</td>\n",
       "      <td>50</td>\n",
       "      <td>100</td>\n",
       "      <td>5.5</td>\n",
       "      <td>1.5</td>\n",
       "      <td>66</td>\n",
       "    </tr>\n",
       "    <tr>\n",
       "      <th>4</th>\n",
       "      <td>Cassava</td>\n",
       "      <td>150</td>\n",
       "      <td>50</td>\n",
       "      <td>100</td>\n",
       "      <td>5.5</td>\n",
       "      <td>1.5</td>\n",
       "      <td>68</td>\n",
       "    </tr>\n",
       "    <tr>\n",
       "      <th>...</th>\n",
       "      <td>...</td>\n",
       "      <td>...</td>\n",
       "      <td>...</td>\n",
       "      <td>...</td>\n",
       "      <td>...</td>\n",
       "      <td>...</td>\n",
       "      <td>...</td>\n",
       "    </tr>\n",
       "    <tr>\n",
       "      <th>37581643</th>\n",
       "      <td>Sugarcane</td>\n",
       "      <td>200</td>\n",
       "      <td>80</td>\n",
       "      <td>180</td>\n",
       "      <td>6.5</td>\n",
       "      <td>2.5</td>\n",
       "      <td>72</td>\n",
       "    </tr>\n",
       "    <tr>\n",
       "      <th>37581644</th>\n",
       "      <td>Sugarcane</td>\n",
       "      <td>200</td>\n",
       "      <td>80</td>\n",
       "      <td>180</td>\n",
       "      <td>6.5</td>\n",
       "      <td>2.5</td>\n",
       "      <td>74</td>\n",
       "    </tr>\n",
       "    <tr>\n",
       "      <th>37581645</th>\n",
       "      <td>Sugarcane</td>\n",
       "      <td>200</td>\n",
       "      <td>80</td>\n",
       "      <td>180</td>\n",
       "      <td>6.5</td>\n",
       "      <td>2.5</td>\n",
       "      <td>76</td>\n",
       "    </tr>\n",
       "    <tr>\n",
       "      <th>37581646</th>\n",
       "      <td>Sugarcane</td>\n",
       "      <td>200</td>\n",
       "      <td>80</td>\n",
       "      <td>180</td>\n",
       "      <td>6.5</td>\n",
       "      <td>2.5</td>\n",
       "      <td>78</td>\n",
       "    </tr>\n",
       "    <tr>\n",
       "      <th>37581647</th>\n",
       "      <td>Sugarcane</td>\n",
       "      <td>200</td>\n",
       "      <td>80</td>\n",
       "      <td>180</td>\n",
       "      <td>6.5</td>\n",
       "      <td>2.5</td>\n",
       "      <td>80</td>\n",
       "    </tr>\n",
       "  </tbody>\n",
       "</table>\n",
       "<p>37581648 rows × 7 columns</p>\n",
       "</div>"
      ],
      "text/plain": [
       "               Crop  N (mg/kg)  P (mg/kg)  K (mg/kg)   pH  EC(uS/cm)  \\\n",
       "0           Cassava        150         50        100  5.5        1.5   \n",
       "1           Cassava        150         50        100  5.5        1.5   \n",
       "2           Cassava        150         50        100  5.5        1.5   \n",
       "3           Cassava        150         50        100  5.5        1.5   \n",
       "4           Cassava        150         50        100  5.5        1.5   \n",
       "...             ...        ...        ...        ...  ...        ...   \n",
       "37581643  Sugarcane        200         80        180  6.5        2.5   \n",
       "37581644  Sugarcane        200         80        180  6.5        2.5   \n",
       "37581645  Sugarcane        200         80        180  6.5        2.5   \n",
       "37581646  Sugarcane        200         80        180  6.5        2.5   \n",
       "37581647  Sugarcane        200         80        180  6.5        2.5   \n",
       "\n",
       "          MOISTURE (%)  \n",
       "0                   60  \n",
       "1                   62  \n",
       "2                   64  \n",
       "3                   66  \n",
       "4                   68  \n",
       "...                ...  \n",
       "37581643            72  \n",
       "37581644            74  \n",
       "37581645            76  \n",
       "37581646            78  \n",
       "37581647            80  \n",
       "\n",
       "[37581648 rows x 7 columns]"
      ]
     },
     "execution_count": 5,
     "metadata": {},
     "output_type": "execute_result"
    }
   ],
   "source": [
    "crop_data.dropna()"
   ]
  },
  {
   "cell_type": "code",
   "execution_count": 6,
   "id": "67856483-2d08-47a4-923c-bffed3563bd3",
   "metadata": {},
   "outputs": [
    {
     "data": {
      "text/plain": [
       "array([1, 1, 1, ..., 8, 8, 8])"
      ]
     },
     "execution_count": 6,
     "metadata": {},
     "output_type": "execute_result"
    }
   ],
   "source": [
    "from sklearn.preprocessing import LabelEncoder\n",
    "\n",
    "label_encoder = LabelEncoder()\n",
    "target = label_encoder.fit_transform(crop_data.iloc[:,0])\n",
    "target"
   ]
  },
  {
   "cell_type": "code",
   "execution_count": 7,
   "id": "aada922a-4cf6-4d69-942c-8402cde8d28f",
   "metadata": {},
   "outputs": [],
   "source": [
    "target_name = crop_data.iloc[:,0]\n",
    "data = {\n",
    "        'target_name':target_name,\n",
    "        'target_label_code': target,\n",
    "        }\n",
    "\n",
    "target_name_target_label_tabel = pd.DataFrame(data)"
   ]
  },
  {
   "cell_type": "code",
   "execution_count": 8,
   "id": "23b80b7b-4c53-41cb-8e62-9d9063ce5531",
   "metadata": {},
   "outputs": [
    {
     "data": {
      "text/html": [
       "<div>\n",
       "<style scoped>\n",
       "    .dataframe tbody tr th:only-of-type {\n",
       "        vertical-align: middle;\n",
       "    }\n",
       "\n",
       "    .dataframe tbody tr th {\n",
       "        vertical-align: top;\n",
       "    }\n",
       "\n",
       "    .dataframe thead th {\n",
       "        text-align: right;\n",
       "    }\n",
       "</style>\n",
       "<table border=\"1\" class=\"dataframe\">\n",
       "  <thead>\n",
       "    <tr style=\"text-align: right;\">\n",
       "      <th></th>\n",
       "      <th>name</th>\n",
       "      <th>label</th>\n",
       "    </tr>\n",
       "  </thead>\n",
       "  <tbody>\n",
       "    <tr>\n",
       "      <th>0</th>\n",
       "      <td>Cassava</td>\n",
       "      <td>1</td>\n",
       "    </tr>\n",
       "    <tr>\n",
       "      <th>1</th>\n",
       "      <td>Vanilla</td>\n",
       "      <td>12</td>\n",
       "    </tr>\n",
       "    <tr>\n",
       "      <th>2</th>\n",
       "      <td>Coffee</td>\n",
       "      <td>2</td>\n",
       "    </tr>\n",
       "    <tr>\n",
       "      <th>3</th>\n",
       "      <td>Cotton</td>\n",
       "      <td>3</td>\n",
       "    </tr>\n",
       "    <tr>\n",
       "      <th>4</th>\n",
       "      <td>Tea</td>\n",
       "      <td>10</td>\n",
       "    </tr>\n",
       "    <tr>\n",
       "      <th>5</th>\n",
       "      <td>Tobacco</td>\n",
       "      <td>11</td>\n",
       "    </tr>\n",
       "    <tr>\n",
       "      <th>6</th>\n",
       "      <td>Groundnuts</td>\n",
       "      <td>4</td>\n",
       "    </tr>\n",
       "    <tr>\n",
       "      <th>7</th>\n",
       "      <td>Yams</td>\n",
       "      <td>13</td>\n",
       "    </tr>\n",
       "    <tr>\n",
       "      <th>8</th>\n",
       "      <td>Maize (corn)</td>\n",
       "      <td>6</td>\n",
       "    </tr>\n",
       "    <tr>\n",
       "      <th>9</th>\n",
       "      <td>Beans</td>\n",
       "      <td>0</td>\n",
       "    </tr>\n",
       "    <tr>\n",
       "      <th>10</th>\n",
       "      <td>Irish Potato</td>\n",
       "      <td>5</td>\n",
       "    </tr>\n",
       "    <tr>\n",
       "      <th>11</th>\n",
       "      <td>Matooke</td>\n",
       "      <td>7</td>\n",
       "    </tr>\n",
       "    <tr>\n",
       "      <th>12</th>\n",
       "      <td>Sweet Banana</td>\n",
       "      <td>9</td>\n",
       "    </tr>\n",
       "    <tr>\n",
       "      <th>13</th>\n",
       "      <td>Sugarcane</td>\n",
       "      <td>8</td>\n",
       "    </tr>\n",
       "  </tbody>\n",
       "</table>\n",
       "</div>"
      ],
      "text/plain": [
       "            name  label\n",
       "0        Cassava      1\n",
       "1        Vanilla     12\n",
       "2         Coffee      2\n",
       "3        Cotton       3\n",
       "4            Tea     10\n",
       "5        Tobacco     11\n",
       "6     Groundnuts      4\n",
       "7           Yams     13\n",
       "8   Maize (corn)      6\n",
       "9          Beans      0\n",
       "10  Irish Potato      5\n",
       "11       Matooke      7\n",
       "12  Sweet Banana      9\n",
       "13     Sugarcane      8"
      ]
     },
     "execution_count": 8,
     "metadata": {},
     "output_type": "execute_result"
    }
   ],
   "source": [
    "unique_target_name = target_name_target_label_tabel['target_name'].unique()\n",
    "\n",
    "unique_target_label_code =target_name_target_label_tabel['target_label_code'].unique() \n",
    "\n",
    "unique_data_dict = {\n",
    "                    'name':unique_target_name,\n",
    "                    'label':unique_target_label_code,\n",
    "                    }\n",
    "\n",
    "unique_value_table = pd.DataFrame(unique_data_dict)\n",
    "unique_value_table"
   ]
  },
  {
   "cell_type": "code",
   "execution_count": 9,
   "id": "19f2ec81-c98b-46b9-8fb7-5af31f440321",
   "metadata": {},
   "outputs": [
    {
     "data": {
      "text/plain": [
       "(37581648, 7)"
      ]
     },
     "execution_count": 9,
     "metadata": {},
     "output_type": "execute_result"
    }
   ],
   "source": [
    "crop_data.shape"
   ]
  },
  {
   "cell_type": "code",
   "execution_count": 10,
   "id": "65a30075-ec16-474b-8860-dc11a55848c3",
   "metadata": {},
   "outputs": [
    {
     "data": {
      "text/html": [
       "<div>\n",
       "<style scoped>\n",
       "    .dataframe tbody tr th:only-of-type {\n",
       "        vertical-align: middle;\n",
       "    }\n",
       "\n",
       "    .dataframe tbody tr th {\n",
       "        vertical-align: top;\n",
       "    }\n",
       "\n",
       "    .dataframe thead th {\n",
       "        text-align: right;\n",
       "    }\n",
       "</style>\n",
       "<table border=\"1\" class=\"dataframe\">\n",
       "  <thead>\n",
       "    <tr style=\"text-align: right;\">\n",
       "      <th></th>\n",
       "      <th>N (mg/kg)</th>\n",
       "      <th>P (mg/kg)</th>\n",
       "      <th>K (mg/kg)</th>\n",
       "      <th>pH</th>\n",
       "      <th>EC(uS/cm)</th>\n",
       "      <th>MOISTURE (%)</th>\n",
       "    </tr>\n",
       "  </thead>\n",
       "  <tbody>\n",
       "    <tr>\n",
       "      <th>0</th>\n",
       "      <td>150</td>\n",
       "      <td>50</td>\n",
       "      <td>100</td>\n",
       "      <td>5.5</td>\n",
       "      <td>1.5</td>\n",
       "      <td>60</td>\n",
       "    </tr>\n",
       "    <tr>\n",
       "      <th>1</th>\n",
       "      <td>150</td>\n",
       "      <td>50</td>\n",
       "      <td>100</td>\n",
       "      <td>5.5</td>\n",
       "      <td>1.5</td>\n",
       "      <td>62</td>\n",
       "    </tr>\n",
       "    <tr>\n",
       "      <th>2</th>\n",
       "      <td>150</td>\n",
       "      <td>50</td>\n",
       "      <td>100</td>\n",
       "      <td>5.5</td>\n",
       "      <td>1.5</td>\n",
       "      <td>64</td>\n",
       "    </tr>\n",
       "    <tr>\n",
       "      <th>3</th>\n",
       "      <td>150</td>\n",
       "      <td>50</td>\n",
       "      <td>100</td>\n",
       "      <td>5.5</td>\n",
       "      <td>1.5</td>\n",
       "      <td>66</td>\n",
       "    </tr>\n",
       "    <tr>\n",
       "      <th>4</th>\n",
       "      <td>150</td>\n",
       "      <td>50</td>\n",
       "      <td>100</td>\n",
       "      <td>5.5</td>\n",
       "      <td>1.5</td>\n",
       "      <td>68</td>\n",
       "    </tr>\n",
       "    <tr>\n",
       "      <th>...</th>\n",
       "      <td>...</td>\n",
       "      <td>...</td>\n",
       "      <td>...</td>\n",
       "      <td>...</td>\n",
       "      <td>...</td>\n",
       "      <td>...</td>\n",
       "    </tr>\n",
       "    <tr>\n",
       "      <th>37581643</th>\n",
       "      <td>200</td>\n",
       "      <td>80</td>\n",
       "      <td>180</td>\n",
       "      <td>6.5</td>\n",
       "      <td>2.5</td>\n",
       "      <td>72</td>\n",
       "    </tr>\n",
       "    <tr>\n",
       "      <th>37581644</th>\n",
       "      <td>200</td>\n",
       "      <td>80</td>\n",
       "      <td>180</td>\n",
       "      <td>6.5</td>\n",
       "      <td>2.5</td>\n",
       "      <td>74</td>\n",
       "    </tr>\n",
       "    <tr>\n",
       "      <th>37581645</th>\n",
       "      <td>200</td>\n",
       "      <td>80</td>\n",
       "      <td>180</td>\n",
       "      <td>6.5</td>\n",
       "      <td>2.5</td>\n",
       "      <td>76</td>\n",
       "    </tr>\n",
       "    <tr>\n",
       "      <th>37581646</th>\n",
       "      <td>200</td>\n",
       "      <td>80</td>\n",
       "      <td>180</td>\n",
       "      <td>6.5</td>\n",
       "      <td>2.5</td>\n",
       "      <td>78</td>\n",
       "    </tr>\n",
       "    <tr>\n",
       "      <th>37581647</th>\n",
       "      <td>200</td>\n",
       "      <td>80</td>\n",
       "      <td>180</td>\n",
       "      <td>6.5</td>\n",
       "      <td>2.5</td>\n",
       "      <td>80</td>\n",
       "    </tr>\n",
       "  </tbody>\n",
       "</table>\n",
       "<p>37581648 rows × 6 columns</p>\n",
       "</div>"
      ],
      "text/plain": [
       "          N (mg/kg)  P (mg/kg)  K (mg/kg)   pH  EC(uS/cm)  MOISTURE (%)\n",
       "0               150         50        100  5.5        1.5            60\n",
       "1               150         50        100  5.5        1.5            62\n",
       "2               150         50        100  5.5        1.5            64\n",
       "3               150         50        100  5.5        1.5            66\n",
       "4               150         50        100  5.5        1.5            68\n",
       "...             ...        ...        ...  ...        ...           ...\n",
       "37581643        200         80        180  6.5        2.5            72\n",
       "37581644        200         80        180  6.5        2.5            74\n",
       "37581645        200         80        180  6.5        2.5            76\n",
       "37581646        200         80        180  6.5        2.5            78\n",
       "37581647        200         80        180  6.5        2.5            80\n",
       "\n",
       "[37581648 rows x 6 columns]"
      ]
     },
     "execution_count": 10,
     "metadata": {},
     "output_type": "execute_result"
    }
   ],
   "source": [
    "un_scaled_inputs = crop_data.iloc[:,1:]\n",
    "un_scaled_inputs"
   ]
  },
  {
   "cell_type": "markdown",
   "id": "e16ed510-4f0e-44ca-8f3e-6f914efda996",
   "metadata": {},
   "source": [
    "scaling inputs "
   ]
  },
  {
   "cell_type": "code",
   "execution_count": 11,
   "id": "53df4d9c-ae87-40ca-820e-ad6a509a76c3",
   "metadata": {},
   "outputs": [
    {
     "data": {
      "text/plain": [
       "array([[-0.17131778, -0.6124411 , -1.63087258, -1.0566009 , -0.67650084,\n",
       "        -0.36091184],\n",
       "       [-0.17131778, -0.6124411 , -1.63087258, -1.0566009 , -0.67650084,\n",
       "        -0.24596734],\n",
       "       [-0.17131778, -0.6124411 , -1.63087258, -1.0566009 , -0.67650084,\n",
       "        -0.13102284],\n",
       "       ...,\n",
       "       [ 1.96016098,  1.47317381,  2.56785036,  0.84500193,  1.55786254,\n",
       "         0.55864417],\n",
       "       [ 1.96016098,  1.47317381,  2.56785036,  0.84500193,  1.55786254,\n",
       "         0.67358867],\n",
       "       [ 1.96016098,  1.47317381,  2.56785036,  0.84500193,  1.55786254,\n",
       "         0.78853317]])"
      ]
     },
     "execution_count": 11,
     "metadata": {},
     "output_type": "execute_result"
    }
   ],
   "source": [
    "scaler = StandardScaler()\n",
    "scaled_inputs = scaler.fit_transform(un_scaled_inputs)\n",
    "scaled_inputs"
   ]
  },
  {
   "cell_type": "code",
   "execution_count": 12,
   "id": "4c507f2c-7e8e-4300-8c5a-d1fea6ece542",
   "metadata": {},
   "outputs": [
    {
     "data": {
      "text/plain": [
       "array([ 4,  3,  3, ...,  7,  3, 11])"
      ]
     },
     "execution_count": 12,
     "metadata": {},
     "output_type": "execute_result"
    }
   ],
   "source": [
    "shuffled_indices = np.arange(scaled_inputs.shape[0])\n",
    "np.random.shuffle(shuffled_indices)\n",
    "\n",
    "shuffled_inputs = scaled_inputs[shuffled_indices]\n",
    "shuffled_targets = target[shuffled_indices]\n",
    "shuffled_targets"
   ]
  },
  {
   "cell_type": "code",
   "execution_count": 13,
   "id": "4261af36-00c5-4665-aea8-88f634113ddd",
   "metadata": {},
   "outputs": [
    {
     "name": "stdout",
     "output_type": "stream",
     "text": [
      "30065318 3758164 3758164\n"
     ]
    }
   ],
   "source": [
    "sample_count = shuffled_inputs.shape[0]\n",
    "\n",
    "training_count, validation_count,test_count = int(0.8*sample_count),int(0.1*sample_count),int(0.1*sample_count)\n",
    "print(training_count,validation_count,test_count)"
   ]
  },
  {
   "cell_type": "markdown",
   "id": "f887ab37-9a97-48ad-aec4-cacdc602852e",
   "metadata": {},
   "source": [
    "spliting the data"
   ]
  },
  {
   "cell_type": "code",
   "execution_count": 14,
   "id": "b13d1c68-5482-4c35-858c-f2aa672bebd0",
   "metadata": {},
   "outputs": [],
   "source": [
    "train_inputs,train_targets = shuffled_inputs[:training_count],shuffled_targets[:training_count]\n",
    "validation_input,validation_targets = shuffled_inputs[training_count:training_count+validation_count],shuffled_targets[training_count:training_count+validation_count]\n",
    "test_inputs,test_targets = shuffled_inputs[training_count+validation_count:],shuffled_targets[training_count+validation_count:]"
   ]
  },
  {
   "cell_type": "code",
   "execution_count": 15,
   "id": "f6e626fa-eae2-4824-908f-83c939309881",
   "metadata": {},
   "outputs": [],
   "source": [
    "np.savez('Train_data',inputs =train_inputs,targets = train_targets)\n",
    "np.savez('validation_data',inputs =validation_input,targets = validation_targets)\n",
    "np.savez('test_data',inputs =test_inputs,targets = test_targets)"
   ]
  },
  {
   "cell_type": "markdown",
   "id": "0ff27967-76c1-4a24-88b7-91112fb45346",
   "metadata": {},
   "source": [
    "loading the saved data"
   ]
  },
  {
   "cell_type": "code",
   "execution_count": 16,
   "id": "900e9401-f357-44d9-9f58-0c62aad361b3",
   "metadata": {},
   "outputs": [],
   "source": [
    "trainData = np.load('Train_data.npz',allow_pickle=True)\n",
    "train_inputs,train_targets = trainData['inputs'].astype(np.float64),trainData['targets']\n",
    "validation_data = np.load('validation_data.npz',allow_pickle=True)\n",
    "validation_inputs,validation_targets = validation_data['inputs'].astype(np.float64),validation_data['targets']\n",
    "test_data = np.load('test_data.npz',allow_pickle=True)\n",
    "test_inputs,test_targets = test_data['inputs'].astype(np.float64),test_data['targets']"
   ]
  },
  {
   "cell_type": "code",
   "execution_count": 17,
   "id": "5237c359-9860-487f-b3a0-a9c15991572a",
   "metadata": {},
   "outputs": [
    {
     "name": "stdout",
     "output_type": "stream",
     "text": [
      "[ 4  3  3 ... 10  4  4]\n",
      "['Groundnuts' 'Cotton ' 'Cotton ' ... 'Tea' 'Groundnuts' 'Groundnuts']\n"
     ]
    }
   ],
   "source": [
    "print(train_targets)\n",
    "original_classes = label_encoder.inverse_transform(train_targets)\n",
    "print(original_classes)"
   ]
  },
  {
   "cell_type": "markdown",
   "id": "112ce566-438a-43c6-bbd9-e669cf80bfdd",
   "metadata": {},
   "source": [
    "## MODEL "
   ]
  },
  {
   "cell_type": "code",
   "execution_count": 18,
   "id": "1086c37e-660d-4316-922f-03439825dec8",
   "metadata": {},
   "outputs": [
    {
     "name": "stdout",
     "output_type": "stream",
     "text": [
      "Epoch 1/100\n",
      "300654/300654 [==============================] - 1780s 5ms/step - loss: 0.2966 - accuracy: 0.8089 - val_loss: 0.2846 - val_accuracy: 0.8118\n",
      "Epoch 2/100\n",
      "300654/300654 [==============================] - 1655s 6ms/step - loss: 0.2905 - accuracy: 0.8120 - val_loss: 0.2832 - val_accuracy: 0.8132\n",
      "Epoch 3/100\n",
      "300654/300654 [==============================] - 1687s 6ms/step - loss: 0.3097 - accuracy: 0.8112 - val_loss: 0.2952 - val_accuracy: 0.8109\n",
      "Epoch 4/100\n",
      "300654/300654 [==============================] - 1711s 6ms/step - loss: 0.3398 - accuracy: 0.8070 - val_loss: 0.2956 - val_accuracy: 0.8116\n"
     ]
    },
    {
     "data": {
      "text/plain": [
       "<keras.callbacks.History at 0x1a00ae5c160>"
      ]
     },
     "execution_count": 18,
     "metadata": {},
     "output_type": "execute_result"
    }
   ],
   "source": [
    "input_size = 6 \n",
    "output_size = 14\n",
    "hidden_layer_size = 100\n",
    "\n",
    "model = tf.keras.Sequential([\n",
    "                             tf.keras.layers.Dense(hidden_layer_size,input_shape =[input_size] ,activation = 'relu'),\n",
    "                             tf.keras.layers.Dense(hidden_layer_size, activation = 'relu'),\n",
    "                             tf.keras.layers.Dense(hidden_layer_size, activation = 'relu'),\n",
    "                             tf.keras.layers.Dense(hidden_layer_size, activation = 'relu'),\n",
    "                             tf.keras.layers.Dense(hidden_layer_size, activation = 'relu'),\n",
    "                             tf.keras.layers.Dense(hidden_layer_size, activation = 'relu'),\n",
    "                             tf.keras.layers.Dense(hidden_layer_size, activation = 'relu'),\n",
    "                             tf.keras.layers.Dense(output_size, activation = 'softmax'),\n",
    "                            ])\n",
    "\n",
    "model.compile(optimizer = 'adam',loss = 'sparse_categorical_crossentropy', metrics = ['accuracy'])\n",
    "\n",
    "batch_size = 100\n",
    "num_epoches = 100\n",
    "early_stp = tf.keras.callbacks.EarlyStopping(patience =2)\n",
    "\n",
    "model.fit(train_inputs,\n",
    "         train_targets,\n",
    "         batch_size = batch_size,\n",
    "         epochs = num_epoches,\n",
    "         callbacks = [early_stp],\n",
    "         validation_data = (validation_inputs,validation_targets),\n",
    "         verbose = 1\n",
    "         )"
   ]
  },
  {
   "cell_type": "code",
   "execution_count": 19,
   "id": "9f7e2373-2277-4484-b8f8-6b48e44ca2ec",
   "metadata": {},
   "outputs": [
    {
     "name": "stdout",
     "output_type": "stream",
     "text": [
      "117443/117443 [==============================] - 285s 2ms/step - loss: 0.2957 - accuracy: 0.8115\n"
     ]
    }
   ],
   "source": [
    "test_loss, test_accuracy = model.evaluate(test_inputs,test_targets)"
   ]
  },
  {
   "cell_type": "code",
   "execution_count": 20,
   "id": "258c42cb-23ed-4c2a-a909-fa7027b78ee1",
   "metadata": {},
   "outputs": [
    {
     "name": "stdout",
     "output_type": "stream",
     "text": [
      "1/1 [==============================] - 1s 533ms/step\n"
     ]
    }
   ],
   "source": [
    "test_data = test_inputs[-1:,:]\n",
    "predictionns = model.predict(test_data)"
   ]
  },
  {
   "cell_type": "code",
   "execution_count": 21,
   "id": "166a2a33-3e35-43cc-a124-71be51622813",
   "metadata": {},
   "outputs": [
    {
     "name": "stdout",
     "output_type": "stream",
     "text": [
      "[[ 0.51075542 -0.75148209 -0.16131955 -0.48612006  0.21724451 -0.13102284]]\n"
     ]
    }
   ],
   "source": [
    "print(test_data)"
   ]
  },
  {
   "cell_type": "code",
   "execution_count": 22,
   "id": "b4498d18-58d6-4938-a102-f57a7b4354ad",
   "metadata": {},
   "outputs": [
    {
     "data": {
      "text/plain": [
       "array([[0.0000000e+00, 3.6628653e-10, 0.0000000e+00, 8.1461512e-05,\n",
       "        0.0000000e+00, 0.0000000e+00, 0.0000000e+00, 1.1539477e-34,\n",
       "        0.0000000e+00, 2.7410119e-28, 0.0000000e+00, 9.9991858e-01,\n",
       "        0.0000000e+00, 0.0000000e+00]], dtype=float32)"
      ]
     },
     "execution_count": 22,
     "metadata": {},
     "output_type": "execute_result"
    }
   ],
   "source": [
    "predictionns"
   ]
  },
  {
   "cell_type": "code",
   "execution_count": 61,
   "id": "b3233875-6b17-4a19-860b-5ac45b8c0ca9",
   "metadata": {},
   "outputs": [
    {
     "name": "stdout",
     "output_type": "stream",
     "text": [
      "['Tobacco']\n"
     ]
    }
   ],
   "source": [
    "predicted_class = np.argmax(predictionns)\n",
    "predicted_crop = label_encoder.inverse_transform([predicted_class])\n",
    "print(predicted_crop)"
   ]
  },
  {
   "cell_type": "code",
   "execution_count": 62,
   "id": "3ffb293d-0d53-4161-975c-ac58ea9d3f03",
   "metadata": {},
   "outputs": [
    {
     "data": {
      "text/plain": [
       "array([ 1,  9, 13, ...,  7,  3, 11])"
      ]
     },
     "execution_count": 62,
     "metadata": {},
     "output_type": "execute_result"
    }
   ],
   "source": [
    "test_targets"
   ]
  },
  {
   "cell_type": "markdown",
   "id": "371ff568-0319-4cf6-a920-a435de509e70",
   "metadata": {},
   "source": [
    "### prediction with percentages"
   ]
  },
  {
   "cell_type": "code",
   "execution_count": 64,
   "id": "77419b63-e5e6-4717-a48b-27e2b0385510",
   "metadata": {},
   "outputs": [
    {
     "name": "stdout",
     "output_type": "stream",
     "text": [
      "Please enter the value of N 120\n",
      "Please enter the value of P 50\n",
      "Please enter the value of K 125\n",
      "Please enter the value of pH 7.\n",
      "Please enter the value of EC 1.2\n",
      "Please enter the value of moisture 55\n"
     ]
    },
    {
     "name": "stdout",
     "output_type": "stream",
     "text": [
      "[[-1.45020503 -0.6124411  -0.31877166  1.79580334 -1.34680986 -0.64827309]]\n",
      "[[120.0, 50.0, 125.0, 7.0, 1.2, 55.0]]\n",
      "1/1 [==============================] - ETA: 0s"
     ]
    },
    {
     "name": "stderr",
     "output_type": "stream",
     "text": [
      "H:\\Anaconda\\lib\\site-packages\\sklearn\\base.py:450: UserWarning: X does not have valid feature names, but StandardScaler was fitted with feature names\n",
      "  warnings.warn(\n"
     ]
    },
    {
     "name": "stdout",
     "output_type": "stream",
     "text": [
      "1/1 [==============================] - 0s 79ms/step\n",
      "Beans:100.0%\n"
     ]
    }
   ],
   "source": [
    "determinants = ['N','P','K','pH','EC','moisture']\n",
    "det_values = [[],]\n",
    "\n",
    "for determinant in determinants:\n",
    "        value = float(input(f'Please enter the value of {determinant}'))\n",
    "        det_values[0].append(value)\n",
    "\n",
    "scaled_query = scaler.transform(det_values)\n",
    "print(scaled_query)\n",
    "print(det_values)\n",
    "\n",
    "prediction = model.predict(scaled_query)\n",
    "sorted_indices = np.argsort(prediction)[0][::-1]\n",
    "# prediction\n",
    "predicted_crops = []\n",
    "for x in sorted_indices:\n",
    "    if x < len(label_encoder.classes_):\n",
    "        predicted_crop = label_encoder.inverse_transform([x])[0]\n",
    "        accuracy_percentage = prediction[0][x]*100\n",
    "        \n",
    "        if accuracy_percentage > 0.0:\n",
    "            predicted_crops.append(f\"{predicted_crop}:{accuracy_percentage}%\")\n",
    "            \n",
    "for crop in predicted_crops:\n",
    "    print(crop)"
   ]
  },
  {
   "cell_type": "markdown",
   "id": "0560a866-d399-4601-8b2f-07454119b6d5",
   "metadata": {},
   "source": [
    "## Saving model "
   ]
  },
  {
   "cell_type": "code",
   "execution_count": 65,
   "id": "dafadb04-3259-4349-ab49-312dea741691",
   "metadata": {},
   "outputs": [
    {
     "name": "stdout",
     "output_type": "stream",
     "text": [
      "INFO:tensorflow:Assets written to: ram://df77e3b0-0f07-4f9c-bfbe-3e22048a7875/assets\n"
     ]
    }
   ],
   "source": [
    "import pickle \n",
    "\n",
    "\n",
    "with open ('model.pkl','wb') as f:\n",
    "    pickle.dump(model, f)"
   ]
  },
  {
   "cell_type": "markdown",
   "id": "a1a9e3d5-6bf4-4561-bc5e-56420bb83546",
   "metadata": {},
   "source": [
    "saving the scaler"
   ]
  },
  {
   "cell_type": "code",
   "execution_count": 28,
   "id": "7f757299-b5b4-42e7-a9ac-c47d92356a37",
   "metadata": {},
   "outputs": [],
   "source": [
    "with open('scaler.pkl', 'wb') as f:\n",
    "    pickle.dump(scaler, f)"
   ]
  },
  {
   "cell_type": "markdown",
   "id": "f6198c15-f8e3-4c29-9d73-273691ddb5ba",
   "metadata": {
    "tags": []
   },
   "source": [
    "label encoder pkl\n"
   ]
  },
  {
   "cell_type": "code",
   "execution_count": 29,
   "id": "caa3f561-3596-46ba-93e6-3257716bead6",
   "metadata": {},
   "outputs": [],
   "source": [
    "with open('label_encoder.pkl', 'wb') as f:\n",
    "    pickle.dump(label_encoder, f)"
   ]
  },
  {
   "cell_type": "markdown",
   "id": "e16e54da-f4f4-43a4-ba95-9e599d26bd08",
   "metadata": {},
   "source": [
    "## API code "
   ]
  },
  {
   "cell_type": "code",
   "execution_count": 1,
   "id": "57142bfd-e9b9-491b-9563-ac7707b7ba98",
   "metadata": {},
   "outputs": [],
   "source": [
    "from flask import Flask, request, jsonify\n",
    "import numpy as np\n",
    "\n",
    "app = Flask(__name__)\n",
    "\n",
    "# Load the model and scaler\n",
    "with open('model.pkl', 'rb') as f:\n",
    "    model = pickle.load(f)\n",
    "\n",
    "with open('scaler.pkl', 'rb') as f:\n",
    "    scaler = pickle.load(f)\n",
    "    \n",
    "with open('label_encoder.pkl', 'rb') as f:\n",
    "    label_encoder = pickle.load(f)\n",
    "\n",
    "determinants = ['N', 'P', 'K', 'pH', 'EC', 'moisture']\n",
    "\n",
    "@app.route('/predict', methods=['POST'])\n",
    "def predict():\n",
    "    det_values = [[]]\n",
    "\n",
    "    # Get input values from the user\n",
    "    for determinant in determinants:\n",
    "        value = float(request.json[determinant])\n",
    "        det_values[0].append(value)\n",
    "\n",
    "    # Scale the input values\n",
    "    scaled_query = scaler.transform(det_values)\n",
    "\n",
    "    # Perform predictions using the model\n",
    "    prediction = model.predict(scaled_query)\n",
    "    predicted_class = np.argmax(prediction)\n",
    "    predicted_crop = label_encoder.inverse_transform([predicted_class])\n",
    "\n",
    "    # Return the predicted crop as the output\n",
    "    return jsonify({'predicted_crop': predicted_crop})\n",
    "\n",
    "if __name__ == '__main__':\n",
    "    app.run()\n"
   ]
  },
  {
   "cell_type": "markdown",
   "id": "0d412505-2d5d-4678-9a13-b0e8abafe99c",
   "metadata": {},
   "source": [
    "## Flutter code "
   ]
  },
  {
   "cell_type": "code",
   "execution_count": null,
   "id": "c7d3e98e-10b5-4c14-ba72-db582d73e737",
   "metadata": {},
   "outputs": [],
   "source": [
    "import 'dart:convert';\n",
    "import 'package:flutter/material.dart';\n",
    "import 'package:http/http.dart' as http;\n",
    "\n",
    "void main() => runApp(MyApp());\n",
    "\n",
    "class MyApp extends StatelessWidget {\n",
    "  @override\n",
    "  Widget build(BuildContext context) {\n",
    "    return MaterialApp(\n",
    "      title: 'Crop Prediction App',\n",
    "      theme: ThemeData(\n",
    "        primarySwatch: Colors.blue,\n",
    "      ),\n",
    "      home: HomePage(),\n",
    "    );\n",
    "  }\n",
    "}\n",
    "\n",
    "class HomePage extends StatefulWidget {\n",
    "  @override\n",
    "  _HomePageState createState() => _HomePageState();\n",
    "}\n",
    "\n",
    "class _HomePageState extends State<HomePage> {\n",
    "  final _formKey = GlobalKey<FormState>();\n",
    "  final determinants = ['N', 'P', 'K', 'pH', 'EC', 'moisture'];\n",
    "  final determinantValues = <String, double>{};\n",
    "\n",
    "  @override\n",
    "  Widget build(BuildContext context) {\n",
    "    return Scaffold(\n",
    "      appBar: AppBar(\n",
    "        title: Text('Crop Prediction'),\n",
    "      ),\n",
    "      body: Padding(\n",
    "        padding: EdgeInsets.all(16.0),\n",
    "        child: Form(\n",
    "          key: _formKey,\n",
    "          child: Column(\n",
    "            crossAxisAlignment: CrossAxisAlignment.start,\n",
    "            children: determinants.map((determinant) {\n",
    "              return TextFormField(\n",
    "                decoration: InputDecoration(\n",
    "                  labelText: determinant,\n",
    "                ),\n",
    "                validator: (value) {\n",
    "                  if (value.isEmpty) {\n",
    "                    return 'Please enter a value';\n",
    "                  }\n",
    "                  return null;\n",
    "                },\n",
    "                onSaved: (value) {\n",
    "                  determinantValues[determinant] = double.parse(value);\n",
    "                },\n",
    "              );\n",
    "            }).toList(),\n",
    "          ),\n",
    "        ),\n",
    "      ),\n",
    "      floatingActionButton: FloatingActionButton(\n",
    "        onPressed: () {\n",
    "          if (_formKey.currentState.validate()) {\n",
    "            _formKey.currentState.save();\n",
    "            makePredictionRequest();\n",
    "          }\n",
    "        },\n",
    "        child: Icon(Icons.check),\n",
    "      ),\n",
    "    );\n",
    "  }\n",
    "\n",
    "  Future<void> makePredictionRequest() async {\n",
    "    // Make the request payload\n",
    "    final requestPayload = <String, dynamic>{\n",
    "      for (final determinant in determinants)\n",
    "        determinant: determinantValues[determinant],\n",
    "    };\n",
    "\n",
    "    // Make the request\n",
    "    final url = Uri.parse('http://your-api-url/predict');\n",
    "    final response = await http.post(\n",
    "      url,\n",
    "      body: jsonEncode(requestPayload),\n",
    "      headers: {'Content-Type': 'application/json'},\n",
    "    );\n",
    "\n",
    "    // Handle the response\n",
    "    if (response.statusCode == 200) {\n",
    "      final responseData = json.decode(response.body);\n",
    "      final predictedCrop = responseData['predicted_crop'];\n",
    "\n",
    "      // Display the predicted crop in a dialog\n",
    "      showDialog(\n",
    "        context: context,\n",
    "        builder: (context) => AlertDialog(\n",
    "          title: Text('Predicted Crop'),\n",
    "          content: Text('The predicted crop is: $predictedCrop'),\n",
    "          actions: [\n",
    "            TextButton(\n",
    "              onPressed: () => Navigator.pop(context),\n",
    "              child: Text('OK'),\n",
    "            ),\n",
    "          ],\n",
    "        ),\n",
    "      );\n",
    "    } else {\n",
    "      print('Request failed with status: ${response.statusCode}');\n",
    "    }\n",
    "  }\n",
    "}\n"
   ]
  }
 ],
 "metadata": {
  "kernelspec": {
   "display_name": "Python 3 (ipykernel)",
   "language": "python",
   "name": "python3"
  },
  "language_info": {
   "codemirror_mode": {
    "name": "ipython",
    "version": 3
   },
   "file_extension": ".py",
   "mimetype": "text/x-python",
   "name": "python",
   "nbconvert_exporter": "python",
   "pygments_lexer": "ipython3",
   "version": "3.9.13"
  }
 },
 "nbformat": 4,
 "nbformat_minor": 5
}
